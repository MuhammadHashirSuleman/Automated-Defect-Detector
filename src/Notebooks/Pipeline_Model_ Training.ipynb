{
 "cells": [
  {
   "cell_type": "code",
   "execution_count": 4,
   "metadata": {
    "execution": {
     "iopub.execute_input": "2025-09-05T09:35:47.932586Z",
     "iopub.status.busy": "2025-09-05T09:35:47.932019Z",
     "iopub.status.idle": "2025-09-05T09:35:47.939587Z",
     "shell.execute_reply": "2025-09-05T09:35:47.938207Z",
     "shell.execute_reply.started": "2025-09-05T09:35:47.932534Z"
    },
    "trusted": true
   },
   "outputs": [],
   "source": [
    "import os\n",
    "import shutil\n",
    "\n",
    "# Make .kaggle folder\n",
    "os.makedirs(\"/root/.kaggle\", exist_ok=True)\n",
    "\n",
    "\n"
   ]
  },
  {
   "cell_type": "code",
   "execution_count": null,
   "metadata": {
    "execution": {
     "iopub.execute_input": "2025-09-05T11:06:40.591718Z",
     "iopub.status.busy": "2025-09-05T11:06:40.591110Z",
     "iopub.status.idle": "2025-09-05T11:08:16.711946Z",
     "shell.execute_reply": "2025-09-05T11:08:16.710961Z",
     "shell.execute_reply.started": "2025-09-05T11:06:40.591687Z"
    },
    "trusted": true
   },
   "outputs": [],
   "source": [
    "!pip install ultralytics -q\n",
    "\n",
    "from ultralytics import YOLO\n",
    "import os\n",
    "import shutil\n",
    "\n",
    "# STOP: First, let's check what's actually happening with the symbolic links\n",
    "print(\"Checking symbolic links...\")\n",
    "try:\n",
    "    ls_output = !ls -la /kaggle/working/fixed_dataset/images/\n",
    "    print(\"Images folder:\", ls_output)\n",
    "    \n",
    "    ls_output = !ls -la /kaggle/working/fixed_dataset/labels/\n",
    "    print(\"Labels folder:\", ls_output)\n",
    "except:\n",
    "    print(\"Symbolic links may not have worked properly\")\n",
    "\n",
    "# BETTER SOLUTION: COPY THE ACTUAL FILES to proper structure\n",
    "print(\"\\nCopying files to proper structure...\")\n",
    "\n",
    "# Create proper folder structure\n",
    "os.makedirs('/kaggle/working/proper_dataset/images/train', exist_ok=True)\n",
    "os.makedirs('/kaggle/working/proper_dataset/labels/train', exist_ok=True)\n",
    "\n",
    "# Copy images\n",
    "src_images = \"/kaggle/input/pipeline-defect-dataset/images/images/train\"\n",
    "dst_images = \"/kaggle/working/proper_dataset/images/train\"\n",
    "\n",
    "image_files = [f for f in os.listdir(src_images) if f.lower().endswith(('.jpg', '.jpeg', '.png'))]\n",
    "print(f\"Copying {len(image_files)} images...\")\n",
    "for img_file in image_files[:100]:  # Copy first 100 to test\n",
    "    shutil.copy2(os.path.join(src_images, img_file), dst_images)\n",
    "\n",
    "# Copy labels\n",
    "src_labels = \"/kaggle/input/pipeline-defect-dataset/labels/labels/train\"\n",
    "dst_labels = \"/kaggle/working/proper_dataset/labels/train\"\n",
    "\n",
    "label_files = [f for f in os.listdir(src_labels) if f.endswith('.txt')]\n",
    "print(f\"Copying {len(label_files)} labels...\")\n",
    "for label_file in label_files[:100]:  # Copy first 100 to test\n",
    "    shutil.copy2(os.path.join(src_labels, label_file), dst_labels)\n",
    "\n",
    "print(\"Files copied successfully!\")\n",
    "\n",
    "# Create CORRECT config file\n",
    "corrected_config_content = \"\"\"\n",
    "path: /kaggle/working/proper_dataset\n",
    "train: images/train\n",
    "val: images/train\n",
    "nc: 6\n",
    "names: \n",
    "  0: Deformation\n",
    "  1: Obstacle\n",
    "  2: Rupture\n",
    "  3: Disconnect\n",
    "  4: Misalignment\n",
    "  5: Deposition\n",
    "\"\"\"\n",
    "\n",
    "with open('/kaggle/working/corrected_config.yaml', 'w') as f:\n",
    "    f.write(corrected_config_content)\n",
    "\n",
    "print(\"Created corrected_config.yaml\")\n",
    "\n",
    "# Verify the files are in the right place\n",
    "print(\"\\nVerifying file structure:\")\n",
    "print(\"Images in train:\", len(os.listdir('/kaggle/working/proper_dataset/images/train')))\n",
    "print(\"Labels in train:\", len(os.listdir('/kaggle/working/proper_dataset/labels/train')))\n",
    "\n",
    "# Load a pretrained model\n",
    "model = YOLO(\"yolov8n.pt\")  \n",
    "\n",
    "# Train using the PROPER dataset structure\n",
    "model.train(\n",
    "    data=\"/kaggle/working/corrected_config.yaml\",\n",
    "    epochs=50,\n",
    "    imgsz=640,\n",
    "    batch=16,\n",
    "    workers=2,\n",
    "    project=\"/kaggle/working\",\n",
    "    name=\"pipeline_defect_yolov8_proper\",\n",
    "    save=True,\n",
    ")\n",
    "\n",
    "print(\"Training started with proper file structure!\")"
   ]
  },
  {
   "cell_type": "code",
   "execution_count": null,
   "metadata": {
    "execution": {
     "iopub.execute_input": "2025-09-05T11:51:35.521084Z",
     "iopub.status.busy": "2025-09-05T11:51:35.520758Z",
     "iopub.status.idle": "2025-09-05T11:51:36.381295Z",
     "shell.execute_reply": "2025-09-05T11:51:36.380418Z",
     "shell.execute_reply.started": "2025-09-05T11:51:35.521060Z"
    },
    "trusted": true
   },
   "outputs": [],
   "source": [
    "import shutil\n",
    "import os\n",
    "\n",
    "# Compress the entire training directory\n",
    "directory_to_download = \"/kaggle/working/pipeline_defect_yolov8_proper\"\n",
    "zip_output_path = \"/kaggle/working/pipeline_defect_model_complete\"\n",
    "\n",
    "if os.path.exists(directory_to_download):\n",
    "    # Create a zip file of the entire directory\n",
    "    shutil.make_archive(zip_output_path, 'zip', directory_to_download)\n",
    "    print(\"✅ Directory compressed successfully!\")\n",
    "    print(f\"📦 Zip file created: {zip_output_path}.zip\")\n",
    "    print(\"\\n📥 Download instructions:\")\n",
    "    print(\"1. Go to right sidebar → 'Data' → 'Output'\")\n",
    "    print(\"2. Find 'pipeline_defect_model_complete.zip'\")\n",
    "    print(\"3. Click the download icon 📁 next to it\")\n",
    "else:\n",
    "    print(\"❌ Directory not found! Check the path.\")"
   ]
  }
 ],
 "metadata": {
  "kaggle": {
   "accelerator": "nvidiaTeslaT4",
   "dataSources": [
    {
     "datasetId": 5294466,
     "sourceId": 8803591,
     "sourceType": "datasetVersion"
    },
    {
     "datasetId": 8207602,
     "sourceId": 12968204,
     "sourceType": "datasetVersion"
    }
   ],
   "dockerImageVersionId": 31090,
   "isGpuEnabled": true,
   "isInternetEnabled": true,
   "language": "python",
   "sourceType": "notebook"
  },
  "kernelspec": {
   "display_name": "Python 3",
   "language": "python",
   "name": "python3"
  },
  "language_info": {
   "codemirror_mode": {
    "name": "ipython",
    "version": 3
   },
   "file_extension": ".py",
   "mimetype": "text/x-python",
   "name": "python",
   "nbconvert_exporter": "python",
   "pygments_lexer": "ipython3",
   "version": "3.11.13"
  }
 },
 "nbformat": 4,
 "nbformat_minor": 4
}
